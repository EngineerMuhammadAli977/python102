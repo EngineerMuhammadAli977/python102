{
 "cells": [
  {
   "cell_type": "markdown",
   "id": "3deb71c0-bd4d-4c13-afc2-f2922ca6556f",
   "metadata": {},
   "source": [
    "# Calculate The Volume "
   ]
  },
  {
   "cell_type": "code",
   "execution_count": 1,
   "id": "d268c39a-b8d6-46fc-bdfa-5ca7c90f394d",
   "metadata": {},
   "outputs": [
    {
     "name": "stdin",
     "output_type": "stream",
     "text": [
      "Give Length Of The Object 10\n",
      "Give Width Of The Object 10\n",
      "Give Hieght Of The Object 10\n"
     ]
    },
    {
     "name": "stdout",
     "output_type": "stream",
     "text": [
      "The Volume is: 1000\n"
     ]
    }
   ],
   "source": [
    "l =int(input('Give Length Of The Object'))\n",
    "w =int(input('Give Width Of The Object'))\n",
    "h =int(input('Give Hieght Of The Object'))\n",
    "v =l*w*h\n",
    "print('The Volume is:',v)"
   ]
  },
  {
   "cell_type": "markdown",
   "id": "a9cf4efb-5b52-460f-ae87-a1c8b34c2854",
   "metadata": {},
   "source": [
    "# Convert Celsius To Farenheit "
   ]
  },
  {
   "cell_type": "code",
   "execution_count": 2,
   "id": "08559cae-69d3-454b-9d0b-11da2bae0ac0",
   "metadata": {},
   "outputs": [
    {
     "name": "stdin",
     "output_type": "stream",
     "text": [
      "Give The Temperature In Form OF Celsius:  100\n"
     ]
    },
    {
     "name": "stdout",
     "output_type": "stream",
     "text": [
      "The Temperature is:  212.0\n"
     ]
    }
   ],
   "source": [
    "c =int(input('Give The Temperature In Form OF Celsius: '))\n",
    "f =(9/5)*c+32\n",
    "print('The Temperature is: ', f)"
   ]
  },
  {
   "cell_type": "markdown",
   "id": "75b26c38-52bc-44d1-9b8e-12b51e6cdd28",
   "metadata": {},
   "source": [
    "# Convert Farenheit To Celsius"
   ]
  },
  {
   "cell_type": "code",
   "execution_count": 3,
   "id": "85c95fdb-2a18-4757-9eac-afceb3b22125",
   "metadata": {},
   "outputs": [
    {
     "name": "stdin",
     "output_type": "stream",
     "text": [
      "Give The Temperature In Form OF Farenheit:  100\n"
     ]
    },
    {
     "name": "stdout",
     "output_type": "stream",
     "text": [
      "The Temperature is:  37.77777777777778\n"
     ]
    }
   ],
   "source": [
    "f1 =int(input('Give The Temperature In Form OF Farenheit: '))\n",
    "c1 =5*(f1-32)/9\n",
    "print('The Temperature is: ', c1)"
   ]
  },
  {
   "cell_type": "code",
   "execution_count": 4,
   "id": "1b67219b-93b0-4ce3-b063-c3d8f7e47a5e",
   "metadata": {},
   "outputs": [
    {
     "name": "stdout",
     "output_type": "stream",
     "text": [
      "7\n"
     ]
    }
   ],
   "source": [
    "#the floor division // rounds the result down to the nearest whole number\n",
    "x = 15\n",
    "y = 2\n",
    "print(x // y)"
   ]
  },
  {
   "cell_type": "code",
   "execution_count": null,
   "id": "90ea7c5f-b913-4f2d-adda-8ee66d9ba58b",
   "metadata": {},
   "outputs": [],
   "source": []
  }
 ],
 "metadata": {
  "kernelspec": {
   "display_name": "Python 3 (ipykernel)",
   "language": "python",
   "name": "python3"
  },
  "language_info": {
   "codemirror_mode": {
    "name": "ipython",
    "version": 3
   },
   "file_extension": ".py",
   "mimetype": "text/x-python",
   "name": "python",
   "nbconvert_exporter": "python",
   "pygments_lexer": "ipython3",
   "version": "3.11.7"
  }
 },
 "nbformat": 4,
 "nbformat_minor": 5
}
