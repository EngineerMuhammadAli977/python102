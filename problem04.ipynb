{
 "cells": [
  {
   "cell_type": "markdown",
   "id": "82532109-c2e1-4293-b296-1e5e7a555120",
   "metadata": {},
   "source": [
    "# Write a Python program to create a tuple containing the following elements: \"apple\",\r\n",
    "\"banana\", \"cherry\", \"date\".\r\n",
    "Print the tuple."
   ]
  },
  {
   "cell_type": "code",
   "execution_count": 1,
   "id": "cf2ffb1c-7d14-47ae-b388-92a17a4094a1",
   "metadata": {},
   "outputs": [
    {
     "name": "stdout",
     "output_type": "stream",
     "text": [
      "('apple', 'banana', 'cherry', 'date')\n"
     ]
    }
   ],
   "source": [
    "# Create a tuple\n",
    "fruits_tuple = (\"apple\", \"banana\", \"cherry\", \"date\")\n",
    "# Print the tuple\n",
    "print(fruits_tuple)"
   ]
  },
  {
   "cell_type": "markdown",
   "id": "7254c4f3-10e8-43a8-807f-e6ed22980866",
   "metadata": {},
   "source": [
    "# Write a Python program to create an empty list, then add the following elements to the list:\r\n",
    "10, 20, 30, 40, 50.\r\n",
    "Finally, print the list.\r"
   ]
  },
  {
   "cell_type": "code",
   "execution_count": 2,
   "id": "5e4175ac-a6f3-4619-8134-67299c0dff65",
   "metadata": {},
   "outputs": [
    {
     "name": "stdout",
     "output_type": "stream",
     "text": [
      "[10, 20, 30, 40, 50]\n"
     ]
    }
   ],
   "source": [
    "# Create an empty list\n",
    "my_list = []\n",
    "# Add elements to the list\n",
    "my_list.append(10)\n",
    "my_list.append(20)\n",
    "my_list.append(30)\n",
    "my_list.append(40)\n",
    "my_list.append(50)\n",
    "# Print the list\n",
    "print(my_list)"
   ]
  },
  {
   "cell_type": "markdown",
   "id": "71817bc1-dc8b-4cc7-9988-268f739f0e31",
   "metadata": {},
   "source": [
    "# • Research and explain the main difference between tuples and lists in Python.\r\n",
    "• How does their immutability/mutability affect their usage in programming?\r\n",
    "• Give an example scenario where you would prefer using a tuple over a list, and vice\r\n",
    "versa."
   ]
  },
  {
   "cell_type": "code",
   "execution_count": 4,
   "id": "14d8b24c-574b-4891-bc07-1399c4b7fc9b",
   "metadata": {},
   "outputs": [
    {
     "name": "stdout",
     "output_type": "stream",
     "text": [
      "X coordinate: 3\n",
      "Y coordinate: 4\n",
      "['Updated Task 1', 'Task 3', 'Task 4']\n"
     ]
    }
   ],
   "source": [
    "'''Tuples and lists in Python are both sequence data types that can store a collection of items.\n",
    "However  the main difference between them lies in their mutability:\n",
    "Lists: Lists are mutable, which means you can change their elements, add new elements,\n",
    "remove elements, or modify them after creation.\n",
    "Tuples: Tuples are immutable, meaning once they are created, their elements cannot be changed or modified.\n",
    "You cannot add or remove elements from a tuple, nor can you change the value of its elements.'''\n",
    "\n",
    "#using a tuple\n",
    "def get_point_coordinates():\n",
    "    return (3, 4)\n",
    "\n",
    "point = get_point_coordinates()\n",
    "print(\"X coordinate:\", point[0])\n",
    "print(\"Y coordinate:\", point[1])\n",
    "\n",
    "#using a list\n",
    "todo_list = [\"Task 1\", \"Task 2\", \"Task 3\"]\n",
    "# Add a new task\n",
    "todo_list.append(\"Task 4\")\n",
    "# Remove a task\n",
    "todo_list.remove(\"Task 2\")\n",
    "# Modify a task\n",
    "todo_list[0] = \"Updated Task 1\"\n",
    "print(todo_list)"
   ]
  },
  {
   "cell_type": "code",
   "execution_count": null,
   "id": "677f5dce-4594-498b-b275-b89a14c3a874",
   "metadata": {},
   "outputs": [],
   "source": []
  }
 ],
 "metadata": {
  "kernelspec": {
   "display_name": "Python 3 (ipykernel)",
   "language": "python",
   "name": "python3"
  },
  "language_info": {
   "codemirror_mode": {
    "name": "ipython",
    "version": 3
   },
   "file_extension": ".py",
   "mimetype": "text/x-python",
   "name": "python",
   "nbconvert_exporter": "python",
   "pygments_lexer": "ipython3",
   "version": "3.11.7"
  }
 },
 "nbformat": 4,
 "nbformat_minor": 5
}
