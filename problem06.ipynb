{
 "cells": [
  {
   "cell_type": "markdown",
   "id": "36944cb6-7f7d-431a-aaf3-73606222c1b4",
   "metadata": {},
   "source": [
    "## Write a program that takes an integer input from the user and prints \"Even\" if the number \r\n",
    "is even, and \"Odd\" if the number is odd. "
   ]
  },
  {
   "cell_type": "code",
   "execution_count": 1,
   "id": "99e7de3a-e46b-480c-9775-01a621a2e51b",
   "metadata": {},
   "outputs": [
    {
     "name": "stdin",
     "output_type": "stream",
     "text": [
      "Enter The Value. 111\n"
     ]
    },
    {
     "name": "stdout",
     "output_type": "stream",
     "text": [
      "Odd\n"
     ]
    }
   ],
   "source": [
    "user_input = int(input(\"Enter The Value.\"))\n",
    "x = user_input\n",
    "if x % 2 == 0:\n",
    "    print(\"Even\")\n",
    "else:\n",
    "    print(\"Odd\")\n",
    "                 \n",
    "         \n",
    "         "
   ]
  },
  {
   "cell_type": "markdown",
   "id": "b68ab778-dedd-4bf6-adb3-999040a85840",
   "metadata": {},
   "source": [
    "You are developing a grading system for Army Public School. \r\n",
    "Write a program that takes a student's score as input and prints their grade according to the \r\n",
    "following criteria:\r\n",
    "Score >= 90: Grade A\r\n",
    "80 <= Score < 90: Grade B\r\n",
    "70 <= Score < 80: Grade C\r\n",
    "60 <= Score < 70: Grade D\r\n",
    "Score < 60: Grade F"
   ]
  },
  {
   "cell_type": "code",
   "execution_count": 2,
   "id": "f4f6ffda-410e-448e-9724-6b7225dafaf6",
   "metadata": {},
   "outputs": [
    {
     "name": "stdin",
     "output_type": "stream",
     "text": [
      "Enter Student Score. 35\n"
     ]
    },
    {
     "name": "stdout",
     "output_type": "stream",
     "text": [
      "Grade F\n"
     ]
    }
   ],
   "source": [
    "score = float(input(\"Enter Student Score.\"))\n",
    "if score >= 90:\n",
    "        print(\"Grade A\")\n",
    "elif score >= 80:\n",
    "        print(\"Grade B\")\n",
    "elif score >= 70:\n",
    "        print(\"Grade C\")\n",
    "elif score >= 60:\n",
    "        print(\"Grade D\")\n",
    "else:\n",
    "        print(\"Grade F\")"
   ]
  },
  {
   "cell_type": "markdown",
   "id": "16958b14-2641-4aa0-b06b-af4d47eda778",
   "metadata": {},
   "source": [
    "# Write a program that calculates the fare for a ride based on the distance \r\n",
    "travelled (in kilometres) and the time taken (in minutes), considering different \r\n",
    "vehicle types and their corresponding pricing tiers. Ensure that the program \r\n",
    "properly handles nested if-else statements to determine the fare based on the \r\n",
    "selected vehicle type and the distance/time travelled.\r"
   ]
  },
  {
   "cell_type": "code",
   "execution_count": 3,
   "id": "2a321378-50ee-4dfa-b9bf-2dc961beaf06",
   "metadata": {},
   "outputs": [
    {
     "name": "stdin",
     "output_type": "stream",
     "text": [
      "Enter vehicle type (Standard Car, Luxury Car, SUV):  SUV\n",
      "Enter distance travelled (in kilometers):  90\n",
      "Enter time taken (in minutes):  130\n"
     ]
    },
    {
     "name": "stdout",
     "output_type": "stream",
     "text": [
      "Total fare: 247.5\n"
     ]
    }
   ],
   "source": [
    "def calculate_fare(vehicle_type, distance, time):\n",
    "    if vehicle_type == \"Standard Car\":\n",
    "        base_fare = 5\n",
    "        fare_per_km = 0.50\n",
    "        fare_per_minute = 0.25\n",
    "    elif vehicle_type == \"Luxury Car\":\n",
    "        base_fare = 10\n",
    "        fare_per_km = 1.00\n",
    "        fare_per_minute = 0.50\n",
    "    elif vehicle_type == \"SUV\":\n",
    "        base_fare = 15\n",
    "        fare_per_km = 1.50\n",
    "        fare_per_minute = 0.75\n",
    "    else:\n",
    "        print(\"Invalid vehicle type!\")\n",
    "        return None\n",
    "    \n",
    "    distance_fare = fare_per_km * distance\n",
    "    time_fare = fare_per_minute * time\n",
    "    \n",
    "    total_fare = base_fare + distance_fare + time_fare\n",
    "    return total_fare\n",
    "\n",
    "# Taking input from the user\n",
    "vehicle_type = input(\"Enter vehicle type (Standard Car, Luxury Car, SUV): \")\n",
    "distance = float(input(\"Enter distance travelled (in kilometers): \"))\n",
    "time = float(input(\"Enter time taken (in minutes): \"))\n",
    "\n",
    "# Calculating and printing the fare\n",
    "fare = calculate_fare(vehicle_type, distance, time)\n",
    "if fare is not None:\n",
    "    print(\"Total fare:\", fare)"
   ]
  },
  {
   "cell_type": "code",
   "execution_count": null,
   "id": "393e3a4c-54c0-49e6-a0ac-425900bab4b0",
   "metadata": {},
   "outputs": [],
   "source": []
  }
 ],
 "metadata": {
  "kernelspec": {
   "display_name": "Python 3 (ipykernel)",
   "language": "python",
   "name": "python3"
  },
  "language_info": {
   "codemirror_mode": {
    "name": "ipython",
    "version": 3
   },
   "file_extension": ".py",
   "mimetype": "text/x-python",
   "name": "python",
   "nbconvert_exporter": "python",
   "pygments_lexer": "ipython3",
   "version": "3.11.7"
  }
 },
 "nbformat": 4,
 "nbformat_minor": 5
}
